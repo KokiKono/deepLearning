{
 "cells": [
  {
   "cell_type": "markdown",
   "id": "0fd394bf",
   "metadata": {},
   "source": [
    "# パーセプトロン\n",
    "パーセプトロンとは、複数の入力を一つの出力に変換するもの\n",
    "\n",
    "<img width=\"200\" src=\"./images/Perceptron.png\" >\n",
    "\n",
    "※ ◯をニューロンといい、xは入力信号、wは重みを表す\n",
    "ニューロンでは送られた信号の総和が計算され、限界値を超えた時に1(発火)を出力する。\n",
    "\n",
    "$$\n",
    "y =\n",
    "        \\begin{cases}\n",
    "            0 \\quad (w_1x_1) + (w_2x_2) <= 0 \\\\\n",
    "            1 \\quad (w_1x_1) + (w_2x_2) > 0 \\\\\n",
    "        \\end{cases}\n",
    "$$\n",
    "\n",
    "## ANDゲートの真理値表\n",
    "\n",
    "| $ x_1 $ | $ x_2 $ | y |\n",
    "| -- | -- | -- |\n",
    "| 0 | 0 | 0 |\n",
    "| 0 | 1 | 0 |\n",
    "| 1 | 0 | 0 |\n",
    "| 1 | 1 | 1 |"
   ]
  },
  {
   "cell_type": "code",
   "execution_count": 2,
   "id": "3cc96964",
   "metadata": {},
   "outputs": [],
   "source": [
    "# ANDゲートのパーセプトロン実装\n",
    "\n",
    "def AND(param_x1, param_x2):\n",
    "    w1, w2, theta = 0.5, 0.5, 0.7\n",
    "    tmp = param_x1 * w1 + param_x2 * w2\n",
    "    if tmp <= theta:\n",
    "        return 0\n",
    "    elif tmp > theta:\n",
    "        return 1\n",
    "\n",
    "AND(0, 0) # 0\n",
    "AND(1, 0) # 0\n",
    "AND(0, 1) # 0\n",
    "AND(1, 1) # 1\n",
    "\n",
    "def NAND(param_x1, param_x2):\n",
    "    w1, w2, theta = -0.5, -0.5, -0.7\n",
    "    tmp = param_x1 * w1 + param_x2 * w2\n",
    "    if tmp <= theta:\n",
    "        return 0\n",
    "    elif tmp > theta:\n",
    "        return 1\n",
    "\n",
    "def OR(param_x1, param_x2):\n",
    "    w1, w2, theta = 0.5, 0.5, 0.2\n",
    "    tmp = param_x1 * w1 + param_x2 * w2\n",
    "    if tmp <= theta:\n",
    "        return 0\n",
    "    elif tmp > theta:\n",
    "        return 1"
   ]
  },
  {
   "cell_type": "markdown",
   "id": "a264fea6",
   "metadata": {},
   "source": [
    "# 重みとバイアス\n",
    "\n",
    "パーセプトロンに重みを足し、発火しやすさを調整する\n",
    "\n",
    "$$\n",
    "y =\n",
    "        \\begin{cases}\n",
    "            0 \\quad b + (w_1x_1) + (w_2x_2) <= 0 \\\\\n",
    "            1 \\quad b + (w_1x_1) + (w_2x_2) > 0 \\\\\n",
    "        \\end{cases}\n",
    "$$\n",
    "\n",
    "バイアスを追加した場合のAND関数は下記になる"
   ]
  },
  {
   "cell_type": "code",
   "execution_count": 3,
   "id": "2ede29de",
   "metadata": {},
   "outputs": [],
   "source": [
    "def AND_with_bias(param_x1, param_x2):\n",
    "    x = np.array([param_x1, param_x2])\n",
    "    w = np.array([0.5, 0.5])\n",
    "    b = -0.7\n",
    "    tmp = np.sum(w * x) + b\n",
    "    if tmp <= 0:\n",
    "        return 0\n",
    "    else:\n",
    "        return 1"
   ]
  },
  {
   "cell_type": "markdown",
   "id": "8d664efe",
   "metadata": {},
   "source": [
    "NANDとORはほぼ同じ実装になり、weightとbiasを調整するだけで済む\n",
    "\n",
    "- NAND\n",
    "    - w: `-0.5, -0.5`\n",
    "    - b: `0.7`\n",
    "- OR\n",
    "    - w: `0.5, 0.5`\n",
    "    - b: `-0.2`\n",
    "\n",
    "しかしXORゲートはこのwightとbiasの調整だけでは実装出来ない。\n",
    "\n",
    "## XORゲートの真理値表\n",
    "\n",
    "| $ x_1 $ | $ x_2 $ | y |\n",
    "| -- | -- | -- |\n",
    "| 0 | 0 | 0 |\n",
    "| 0 | 1 | 1 |\n",
    "| 1 | 0 | 1 |\n",
    "| 1 | 1 | 0 |\n",
    "\n",
    "AND,OR,NANDは線形を表すがXORは非線形（曲線）を表すため、XORはwightとbiasだけでは実装出来ない。\n",
    "そのため多層パーセプトロンという手法を取る\n",
    "つまり"
   ]
  },
  {
   "cell_type": "code",
   "execution_count": 4,
   "id": "dd92d6c3",
   "metadata": {},
   "outputs": [],
   "source": [
    "def XOR(param_x1, param_x2):\n",
    "    s1 = NAND(param_x1, param_x2)\n",
    "    s2 = OR(param_x1, param_x2)\n",
    "    y = AND(s1, s2)\n",
    "    return y"
   ]
  },
  {
   "cell_type": "markdown",
   "id": "7c95182e",
   "metadata": {},
   "source": [
    "という関数になる。これをニューロンで表現すると下記になる\n",
    "\n",
    "<img width=\"200\" src=\"./images/XOR_Perceptron.png\" >\n",
    "\n",
    "多層パーセプトロンを用いると非線形も表現できるようになる"
   ]
  },
  {
   "cell_type": "markdown",
   "id": "ae415a7e",
   "metadata": {},
   "source": [
    "# 活性化関数\n",
    "\n",
    "パーセプトロンをシンプルに表現すると下記の２つの式で表現できる\n",
    "\n",
    "$$\n",
    "y = h(b + w_1x_1 + w_2x_2)\n",
    "$$\n",
    "\n",
    "$$\n",
    "h(x) = \\begin{cases}\n",
    "                0 & (x \\leqq 0) \\\\\n",
    "                1 & (x > 0)\n",
    "        \\end{cases}\n",
    "$$\n",
    "\n",
    "入力信号の総和が`h(x)`という関数によって変換され、その変換された総和が出力yになる。\n",
    "\n",
    "こおｎ`h(x)`のことを活性化関数(activation function)と呼ばれる。\n",
    "\n",
    "<img width=\"200\" src=\"./images/ActivateF_Perceptron.png\" >"
   ]
  },
  {
   "cell_type": "markdown",
   "id": "6e17bd8c",
   "metadata": {},
   "source": [
    "# ステップ関数\n",
    "\n",
    "入力が0を超えたら1を出力し、それ以外は0を出力する"
   ]
  },
  {
   "cell_type": "code",
   "execution_count": 5,
   "id": "5767f25f",
   "metadata": {},
   "outputs": [
    {
     "data": {
      "image/png": "[encoded data removed]",
      "text/plain": [
       "<Figure size 640x480 with 1 Axes>"
      ]
     },
     "metadata": {},
     "output_type": "display_data"
    }
   ],
   "source": [
    "import numpy as np\n",
    "import matplotlib.pyplot as plt\n",
    "\n",
    "def step_function(x):\n",
    "    return np.array(x > 0, dtype=np.int8)\n",
    "    \n",
    "x = np.arange(-5.0, 5.0, 0.1)\n",
    "y = step_function(x)\n",
    "plt.plot(x, y)\n",
    "plt.ylim(-0.1, 1.1)\n",
    "plt.show()"
   ]
  },
  {
   "cell_type": "markdown",
   "id": "ba63bb2d",
   "metadata": {},
   "source": [
    "# シグモイド関数とステップ関数\n",
    "\n",
    "ステップ関数と違って、シグモイド関数は滑らかな曲線を描く。\n",
    "ニューラルネットワークではこの滑らかさが重要な役割を果たし、パーセプトロンでは実現できない様々な表現が可能になる。\n",
    "共通している点としては、入力が小さいほど0に近く、入力が大きいほど1に近づくという非線形関数の性質を持つ。\n",
    "\n",
    "活性化関数では線形関数（一直線のもの）を用いてはいけない。\n",
    "線形関数を用いると、ニューラルネットワークの層を深くすることの意味がなくなってしまう。\n",
    "つまり隠れ層（中間層）がないネットワークと同じになってしまう。\n",
    "例えば、 $ h(x)=cx $ を活性化関数とし $ y(x)=h(h(h(x))) $ という3層のネットワークを考える。\n",
    "同じことを $ y(x)=c^3x $ という1層のネットワークで表現することが出来てしまうため、線形関数を用いることは出来ない。"
   ]
  },
  {
   "cell_type": "code",
   "execution_count": 6,
   "id": "8cbc8641",
   "metadata": {},
   "outputs": [
    {
     "data": {
      "image/png": "[encoded data removed]",
      "text/plain": [
       "<Figure size 640x480 with 1 Axes>"
      ]
     },
     "metadata": {},
     "output_type": "display_data"
    }
   ],
   "source": [
    "def sigmoid(param_x):\n",
    "    return 1 / (1 + np.exp(-param_x))\n",
    "\n",
    "x = np.arange(-5.0, 5.0, 0.1)\n",
    "y = sigmoid(x)\n",
    "\n",
    "import matplotlib.pyplot as plt\n",
    "plt.plot(x, y)\n",
    "plt.ylim(-0.1, 1.1) # y軸の範囲を指定\n",
    "plt.show()"
   ]
  },
  {
   "cell_type": "markdown",
   "id": "4928f80a",
   "metadata": {},
   "source": [
    "# ReLU(Rectified Linear Unit)関数\n",
    "古くから使われる活性化関数関数としてReLUもある。\n",
    "これは入力が0を超えていればそのまま出力し、0以下なら0とするものである\n",
    "$$\n",
    "h(x) =\n",
    "        \\begin{cases}\n",
    "            x \\quad x \\geqq 0 \\\\\n",
    "            0 \\quad x < 0 \\\\\n",
    "        \\end{cases}\n",
    "$$"
   ]
  },
  {
   "cell_type": "code",
   "execution_count": 7,
   "id": "4775a7f4",
   "metadata": {},
   "outputs": [
    {
     "data": {
      "image/png": "[encoded data removed]",
      "text/plain": [
       "<Figure size 640x480 with 1 Axes>"
      ]
     },
     "metadata": {},
     "output_type": "display_data"
    }
   ],
   "source": [
    "import numpy as np\n",
    "def relu(param_x):\n",
    "    return np.maximum(0, x)\n",
    "\n",
    "x = np.arange(-5.0, 5.0, 1)\n",
    "y = relu(x)\n",
    "\n",
    "import matplotlib.pyplot as plt\n",
    "plt.plot(x, y)\n",
    "plt.ylim(-1, 4) # y軸の範囲を指定\n",
    "plt.show()"
   ]
  },
  {
   "cell_type": "markdown",
   "id": "0c7e2b17",
   "metadata": {},
   "source": [
    "# ソフトマックス関数\n",
    "ニューラルネットワークの出力層で用いる活性化関数で分類問題で使われる。\n",
    "回帰問題では恒等関数（未加工で出力する関数）を用いられることが多い。\n",
    "\n",
    "$$\n",
    "\n",
    "y_k = \\frac{\\exp(a_k)}{\\sum_{i=1}^{n}\\exp(a_i)} \\\\\n",
    "\\\\\n",
    "= \\frac{C\\exp(a_k)}{C\\sum_{i=1}^{n}\\exp(a_i)}\n",
    "\n",
    "$$\n",
    "\n",
    "exp(x)は $ e^x $ を表す指数関数でeは[ネイピア数](https://ja.wikipedia.org/wiki/%E3%83%8D%E3%82%A4%E3%83%94%E3%82%A2%E6%95%B0) (2.7182...)である"
   ]
  },
  {
   "cell_type": "code",
   "execution_count": 8,
   "id": "2e83ae53",
   "metadata": {},
   "outputs": [
    {
     "name": "stdout",
     "output_type": "stream",
     "text": [
      "[9.99954600e-01 4.53978686e-05 2.06106005e-09]\n"
     ]
    },
    {
     "name": "stderr",
     "output_type": "stream",
     "text": [
      "/var/folders/c1/x6x0qdnj6x92nhzlw0v1y5wh0000gn/T/ipykernel_15476/2251101048.py:9: RuntimeWarning: overflow encountered in exp\n",
      "  np.exp(a) / np.sum(np.exp(a)) # calc softmax with overflow\n",
      "/var/folders/c1/x6x0qdnj6x92nhzlw0v1y5wh0000gn/T/ipykernel_15476/2251101048.py:9: RuntimeWarning: invalid value encountered in divide\n",
      "  np.exp(a) / np.sum(np.exp(a)) # calc softmax with overflow\n"
     ]
    },
    {
     "data": {
      "text/plain": [
       "1.0"
      ]
     },
     "execution_count": 8,
     "metadata": {},
     "output_type": "execute_result"
    }
   ],
   "source": [
    "def softmax(a):\n",
    "    c = np.max(a)\n",
    "    exp_a = np.exp(a - c) # prevent overflow\n",
    "    sum_exp_a = np.sum(exp_a)\n",
    "    return exp_a / sum_exp_a\n",
    "\n",
    "a = np.array([1010, 1000, 990])\n",
    "\n",
    "np.exp(a) / np.sum(np.exp(a)) # calc softmax with overflow\n",
    "\n",
    "y = softmax(a) # calc softmax without overflow\n",
    "\n",
    "print(y)\n",
    "\n",
    "np.sum(y)"
   ]
  },
  {
   "cell_type": "markdown",
   "id": "c5a070fe",
   "metadata": {},
   "source": [
    "# ソフトマックス関数の特徴\n",
    "\n",
    "ソフトマックスの特徴として出力が0から1.0の実数になり総和が1になります。この性質のため出力を「確率」と解釈が出来る。\n",
    "さらに各要素の大小関係はソフトマックス関数を適応してもしなくても変わらないため、ニューラルネットワークのクラス分類では一般的に出力の一番を起きいニューロンに相当するクラスだけを認識結果とする。\n",
    "つまり他の要素はソフトマックス関数を適用する必要がなく、出力層のソフトマックス関数は省略することが出来る。"
   ]
  },
  {
   "cell_type": "markdown",
   "id": "384261d3",
   "metadata": {},
   "source": [
    "# MINISTデータセットを使った画像認識\n"
   ]
  },
  {
   "cell_type": "code",
   "execution_count": 9,
   "id": "2d9a8c8e",
   "metadata": {},
   "outputs": [
    {
     "name": "stdout",
     "output_type": "stream",
     "text": [
      "(60000, 784)\n",
      "(60000,)\n",
      "(10000, 784)\n",
      "(10000,)\n",
      "5\n",
      "(784,)\n",
      "(28, 28)\n"
     ]
    }
   ],
   "source": [
    "import sys, os\n",
    "sys.path.append(os.path.join(os.path.dirname(os.path.abspath('__file__')), './deep-learning-from-scratch/dataset/'))\n",
    "from mnist import load_mnist\n",
    "\n",
    "(x_train, t_train), (x_test, t_test)  = load_mnist(flatten=True, normalize=False)\n",
    "\n",
    "print(x_train.shape) # 訓練画像\n",
    "print(t_train.shape) # テスト画像\n",
    "print(x_test.shape) # 訓練画像ラベル\n",
    "print(t_test.shape) # テスト画像ラベル\n",
    "\n",
    "import numpy as np\n",
    "from PIL import Image\n",
    "\n",
    "def img_show(image):\n",
    "    pil_img = Image.fromarray(np.uint8(image))\n",
    "    pil_img.show()\n",
    "\n",
    "img = x_train[0]\n",
    "label = t_train[0]\n",
    "\n",
    "print(label)\n",
    "print(img.shape)\n",
    "img = img.reshape(28, 28)\n",
    "print(img.shape)\n",
    "\n",
    "img_show(img)"
   ]
  },
  {
   "cell_type": "markdown",
   "id": "c5e2d851",
   "metadata": {},
   "source": [
    "# 手書き画像の推論処理\n",
    "\n",
    "MNISTデータセットに対して推論処理を行うネットワークを実装する。\n",
    "ネットワーク入力層は784, 出力層を10ニューロンで構成する。\n",
    "784=画像サイズの28×28、出力層10個=10クラス分類（数字の0~9）の意味である。"
   ]
  },
  {
   "cell_type": "code",
   "execution_count": 10,
   "id": "82b4adf4",
   "metadata": {},
   "outputs": [
    {
     "name": "stdout",
     "output_type": "stream",
     "text": [
      "Accuracy:  0.9352\n"
     ]
    }
   ],
   "source": [
    "def get_data():\n",
    "    (x_train, t_train), (x_test, t_test) = load_mnist(normalize=True, flatten=True, one_hot_label=False)\n",
    "    \n",
    "    return x_test, t_test\n",
    "\n",
    "def init_network():\n",
    "    import pickle\n",
    "    with open('deep-learning-from-scratch/ch03/sample_weight.pkl', 'rb') as f:\n",
    "        network = pickle.load(f)\n",
    "\n",
    "    return network\n",
    "\n",
    "def predict(network, param_x):\n",
    "    W1, W2, W3 = network['W1'], network['W2'], network['W3']\n",
    "    b1, b2, b3 = network['b1'], network['b2'], network['b3']\n",
    "\n",
    "    a1 = np.dot(param_x, W1) + b1\n",
    "    z1 = sigmoid(a1)\n",
    "    a2 = np.dot(z1, W2) + b2\n",
    "    z2 = sigmoid(a2)\n",
    "    a3 = np.dot(z2, W3) + b3\n",
    "    y = softmax(a3)\n",
    "\n",
    "    return y\n",
    "\n",
    "x, t = get_data()\n",
    "network = init_network()\n",
    "\n",
    "accuracy_cnt = 0\n",
    "for i in range(len(x)):\n",
    "    y = predict(network, x[i])\n",
    "    p = np.argmax(y) # 最も確率の高い要素のインデックスを取得\n",
    "    if p == t[i]:\n",
    "        accuracy_cnt += 1\n",
    "\n",
    "print(\"Accuracy: \", str(float(accuracy_cnt) / len(x)))"
   ]
  },
  {
   "cell_type": "markdown",
   "id": "428b90ef",
   "metadata": {},
   "source": [
    "# バッチ処理\n",
    "\n",
    "入力データと重みパラメータの「形状」に注意して振り返る"
   ]
  },
  {
   "cell_type": "code",
   "execution_count": 11,
   "id": "4d080997",
   "metadata": {},
   "outputs": [
    {
     "name": "stdout",
     "output_type": "stream",
     "text": [
      "x.shape:  (10000, 784)\n",
      "x[0].shape:  (784,)\n",
      "W1.shape:  (784, 50)\n",
      "W2.shape:  (50, 100)\n",
      "W3.shape:  (100, 10)\n"
     ]
    }
   ],
   "source": [
    "x, _ = get_data()\n",
    "network = init_network()\n",
    "W1, W2, W3 = network['W1'], network['W2'], network['W3']\n",
    "\n",
    "print(\"x.shape: \", x.shape) # (10000, 784) 10000行,784列\n",
    "print(\"x[0].shape: \", x[0].shape) # (784,) 784列\n",
    "print(\"W1.shape: \", W1.shape) # (784, 50) 784行,50列\n",
    "print(\"W2.shape: \", W2.shape) # (50, 100) 50行,100列\n",
    "print(\"W3.shape: \", W3.shape) # (100, 10) 100行,10列\n"
   ]
  },
  {
   "cell_type": "markdown",
   "id": "c2e62cd9",
   "metadata": {},
   "source": [
    "```\n",
    " X        W1         W2         W3      -> Y  \n",
    "784  (784 × 50) (50 × 100) (100 × 10)     10  \n",
    " └──────┘    └────┘    └────┘      └──────┘  \n",
    "    一致        一致      一致          一致  \n",
    "```\n",
    "\n",
    "※行列の積では対応する次元数を一致させる必要がある\n",
    "\n",
    "これは画像１枚だけを入力したときの処理の流れだが、例えば100枚まとめてpredictしたい場合\n",
    "```\n",
    "     X            W1         W2         W3    -> Y\n",
    "(100 × 784)  (784 × 50) (50 × 100) (100 × 10)   (100 × 10)\n",
    "   │     └─────┘    └────┘    └──────┘     └──────┼─────┘\n",
    "   └──────────────────────────────────────────────┘\n",
    "```\n",
    "\n",
    "このようなまとまりあるデータをバッチといいます。\n"
   ]
  },
  {
   "cell_type": "code",
   "execution_count": 12,
   "id": "6efb8533",
   "metadata": {},
   "outputs": [
    {
     "name": "stdout",
     "output_type": "stream",
     "text": [
      "Accuracy:  0.9352\n"
     ]
    }
   ],
   "source": [
    "# バッチ処理を使ったpredict\n",
    "\n",
    "x, t = get_data()\n",
    "network = init_network()\n",
    "\n",
    "batch_size = 100 # バッチの数\n",
    "accuracy_cnt = 0\n",
    "\n",
    "for i in range(0, len(x), batch_size):\n",
    "    x_batch = x[i:i+batch_size] # 100個ずつ取り出す\n",
    "    y_batch = predict(network, x_batch)\n",
    "    # axis=1とは1次元目を軸に最大値を取得するという意味\n",
    "    p = np.argmax(y_batch, axis=1) # 最も確率の高い要素のインデックスを取得\n",
    "    accuracy_cnt += np.sum(p == t[i:i+batch_size])\n",
    "\n",
    "print(\"Accuracy: \", str(float(accuracy_cnt) / len(x)))"
   ]
  },
  {
   "cell_type": "markdown",
   "id": "aa34e52a",
   "metadata": {},
   "source": [
    "# 機械学習のパラメータと特徴量\n",
    "\n",
    "上で使ったweightをどうやって決めるか。手作業では大変すぎるので計算していきたい。このweightの数を*パラメータ*と言い、これらは*特徴量*を抽出することで可能になる。\n",
    "画像の特徴量の場合は*ベクトル*が使われ、SIFTやSURF、HOGなどが有名。\n",
    "ニューラルネットワークを用いると人を介在させずに学習させることが出来る。\n",
    "\n",
    "ニューラルネットワークの学習では、訓練（教師）データとテストデータが必要になる。\n",
    "また、一つのデータセット（例：特定の人の手書き画像）に対してのみ対応した状態を*過学習(overfitting)*という。\n",
    "\n",
    "# 損失関数(loss function)\n",
    "\n",
    "ニューラルネットワークの性能の悪さを示す指標。\n",
    "一般には2乗和誤差や交差エントロピー誤差が用いられる。\n",
    "\n",
    "## 2乗和誤差(sum of squared error)\n",
    "\n",
    "$$\n",
    "E = \\frac{1}{2}\\sum_{k}(y_k - t_k)^2\n",
    "$$\n",
    "\n",
    "$y_k$はニューラルネットワークの出力、$t_k$は教師データを、$k$はデータの次元数を表す。\n",
    "\n",
    "`3.6手書き数字認識`の例では、$y_k$、$t_k$は下記のようなデータ。\n",
    "```\n",
    "y = [0.1, 0.05, 0.6, 0.0, 0.05, 0.1, 0.0, 0.1, 0.0, 0.0]\n",
    "t = [0, 0, 1, 0, 0, 0, 0, 0, 0, 0]\n",
    "```\n",
    "\n",
    "実装すると下記のようになり、2のほうが誤差が少ないという結果になっている"
   ]
  },
  {
   "cell_type": "code",
   "execution_count": 13,
   "id": "c64fcd25",
   "metadata": {},
   "outputs": [
    {
     "name": "stdout",
     "output_type": "stream",
     "text": [
      "[ 0.1   0.05 -0.4   0.    0.05  0.1   0.    0.1   0.    0.  ]\n",
      "[0.01   0.0025 0.16   0.     0.0025 0.01   0.     0.01   0.     0.    ]\n",
      "2の損失 0.09750000000000003\n",
      "7の損失 0.5975\n"
     ]
    }
   ],
   "source": [
    "import numpy as np\n",
    "def sum_squared_error(param_y, param_t):\n",
    "    return 0.5 * np.sum((param_y - param_t) ** 2)\n",
    "\n",
    "y = [0.1, 0.05, 0.6, 0.0, 0.05, 0.1, 0.0, 0.1, 0.0, 0.0]\n",
    "t = [0, 0, 1, 0, 0, 0, 0, 0, 0, 0]\n",
    "\n",
    "print(np.array(y) - np.array(t))\n",
    "print((np.array(y) - np.array(t)) ** 2)\n",
    "result = sum_squared_error(np.array(y), np.array(t))\n",
    "print(\"2の損失\", result)\n",
    "\n",
    "# あえて7を最も高い数値にしてみました\n",
    "y = [0.1, 0.05, 0.1, 0.0, 0.05, 0.1, 0.0, 0.6, 0.0, 0.0]\n",
    "result = sum_squared_error(np.array(y), np.array(t))\n",
    "print(\"7の損失\", result)"
   ]
  },
  {
   "cell_type": "markdown",
   "id": "a3b3e8fa",
   "metadata": {},
   "source": [
    "## 交差エントロピー誤差(cross entropy error)\n",
    "\n",
    "$$\n",
    "E = -\\sum_{k}t_k\\log y_k\n",
    "$$\n",
    "\n",
    "例えば、「２」が正解ラベルのインデックスであるとして、それに対応するニューラルネットワークの出力が0.6の場合、誤差は $-\\log 0.6 = 0.51$となる。\n",
    "交差エントロピー誤差は正解ラベルの出力$y_k$の結果によってその値が決まる"
   ]
  },
  {
   "cell_type": "code",
   "execution_count": null,
   "id": "7d40baa0",
   "metadata": {},
   "outputs": [
    {
     "name": "stderr",
     "output_type": "stream",
     "text": [
      "/var/folders/c1/x6x0qdnj6x92nhzlw0v1y5wh0000gn/T/ipykernel_15476/2982711806.py:4: RuntimeWarning: divide by zero encountered in log\n",
      "  y = np.log(x)\n"
     ]
    },
    {
     "data": {
      "image/png": "[encoded data removed]",
      "text/plain": [
       "<Figure size 640x480 with 1 Axes>"
      ]
     },
     "metadata": {},
     "output_type": "display_data"
    },
    {
     "name": "stdout",
     "output_type": "stream",
     "text": [
      "E= 0.510825457099338\n"
     ]
    }
   ],
   "source": [
    "import matplotlib.pyplot as plt\n",
    "import numpy as np\n",
    "x = np.linspace(0, 1, 100)\n",
    "y = np.log(x)\n",
    "\n",
    "plt.plot(x,y, color=\"blue\")\n",
    "plt.text(0.6, -3, \"$y=log_{e}x$\", fontsize=20, color=\"blue\")\n",
    "plt.text(0, -5.5, \"The smaller the output for the correct label, the smaller the error.\", fontsize=16, color=\"blue\")\n",
    "plt.show()\n",
    "\n",
    "def cross_entropy_error(pram_y, param_t):\n",
    "    delta = 1e-7 # np.log(0)がマイナス無限大を表す -infとなるので、微小な値を足して0にしないようにする\n",
    "    return -np.sum(param_t * np.log(pram_y + delta))\n",
    "\n",
    "t = [0, 0, 1, 0, 0, 0, 0, 0, 0, 0]\n",
    "y = [0.1, 0.05, 0.6, 0.0, 0.05, 0.1, 0.0, 0.1, 0.0, 0.0]\n",
    "\n",
    "E = cross_entropy_error(np.array(y), np.array(t))\n",
    "print(\"E=\", E)"
   ]
  }
 ],
 "metadata": {
  "kernelspec": {
   "display_name": "Python 3 (ipykernel)",
   "language": "python",
   "name": "python3"
  },
  "language_info": {
   "codemirror_mode": {
    "name": "ipython",
    "version": 3
   },
   "file_extension": ".py",
   "mimetype": "text/x-python",
   "name": "python",
   "nbconvert_exporter": "python",
   "pygments_lexer": "ipython3",
   "version": "3.9.18"
  }
 },
 "nbformat": 4,
 "nbformat_minor": 5
}
